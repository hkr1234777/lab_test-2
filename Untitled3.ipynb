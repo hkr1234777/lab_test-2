{
 "cells": [
  {
   "cell_type": "code",
   "execution_count": 1,
   "id": "e4b3ff90",
   "metadata": {},
   "outputs": [],
   "source": [
    "import numpy as np\n",
    "def fn()"
   ]
  },
  {
   "cell_type": "code",
   "execution_count": 3,
   "id": "48d37190",
   "metadata": {},
   "outputs": [
    {
     "name": "stdout",
     "output_type": "stream",
     "text": [
      "['har', 'sad', 'sad', 'sad', 'sad']\n"
     ]
    }
   ],
   "source": [
    "n=['har','sad','sad','sad','sad']\n",
    "print(n)"
   ]
  },
  {
   "cell_type": "code",
   "execution_count": 12,
   "id": "d5df7e22",
   "metadata": {},
   "outputs": [
    {
     "ename": "TypeError",
     "evalue": "Cannot interpret '1' as a data type",
     "output_type": "error",
     "traceback": [
      "\u001b[1;31m---------------------------------------------------------------------------\u001b[0m",
      "\u001b[1;31mTypeError\u001b[0m                                 Traceback (most recent call last)",
      "Cell \u001b[1;32mIn[12], line 1\u001b[0m\n\u001b[1;32m----> 1\u001b[0m z\u001b[38;5;241m=\u001b[39mnp\u001b[38;5;241m.\u001b[39mzeros(\u001b[38;5;241m5\u001b[39m,\u001b[38;5;241m1\u001b[39m)\n",
      "\u001b[1;31mTypeError\u001b[0m: Cannot interpret '1' as a data type"
     ]
    }
   ],
   "source": [
    "z=np.zeros(5,1)"
   ]
  },
  {
   "cell_type": "code",
   "execution_count": 9,
   "id": "694c607a",
   "metadata": {},
   "outputs": [
    {
     "name": "stdout",
     "output_type": "stream",
     "text": [
      "[0. 0. 0. 0. 0.]\n"
     ]
    }
   ],
   "source": [
    "print(z)"
   ]
  },
  {
   "cell_type": "code",
   "execution_count": 56,
   "id": "e2c16a83",
   "metadata": {},
   "outputs": [
    {
     "name": "stdout",
     "output_type": "stream",
     "text": [
      "1\n"
     ]
    }
   ],
   "source": [
    "def fn(s):\n",
    "    m=0\n",
    "    for i in s:\n",
    "        if len(i)>5:\n",
    "            m=max(m,len(i))\n",
    "    if m>5:\n",
    "        print(m)\n",
    "    else:\n",
    "        m=len(s[0])\n",
    "        for j in s:\n",
    "            m=min(m,len(j))\n",
    "        print(m)\n",
    "Z=np.array([\"ho\",\"wor\",\"nv\",\"c\",\"bec\"])\n",
    "fn(Z)"
   ]
  },
  {
   "cell_type": "code",
   "execution_count": 26,
   "id": "80919bd1",
   "metadata": {},
   "outputs": [],
   "source": []
  },
  {
   "cell_type": "code",
   "execution_count": null,
   "id": "f1a1acfc",
   "metadata": {},
   "outputs": [],
   "source": []
  }
 ],
 "metadata": {
  "kernelspec": {
   "display_name": "Python 3 (ipykernel)",
   "language": "python",
   "name": "python3"
  },
  "language_info": {
   "codemirror_mode": {
    "name": "ipython",
    "version": 3
   },
   "file_extension": ".py",
   "mimetype": "text/x-python",
   "name": "python",
   "nbconvert_exporter": "python",
   "pygments_lexer": "ipython3",
   "version": "3.11.5"
  }
 },
 "nbformat": 4,
 "nbformat_minor": 5
}
